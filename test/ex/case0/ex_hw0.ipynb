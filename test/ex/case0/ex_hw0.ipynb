{
 "cells": [
  {
   "cell_type": "code",
   "execution_count": 1,
   "id": "4fe96d63",
   "metadata": {},
   "outputs": [],
   "source": [
    "# Part 1 (10 points)\n",
    "# some text or code here"
   ]
  },
  {
   "cell_type": "markdown",
   "id": "d67e5d72",
   "metadata": {},
   "source": [
    "# Part 2 (14 + 2 auto pts)\n",
    "# some text or code here"
   ]
  },
  {
   "cell_type": "code",
   "execution_count": 2,
   "id": "b139476e",
   "metadata": {},
   "outputs": [],
   "source": [
    "# part 3 (14 pts + 3 extra credit really long name pts)"
   ]
  }
 ],
 "metadata": {
  "kernelspec": {
   "display_name": "Python 3 (ipykernel)",
   "language": "python",
   "name": "python3"
  },
  "language_info": {
   "codemirror_mode": {
    "name": "ipython",
    "version": 3
   },
   "file_extension": ".py",
   "mimetype": "text/x-python",
   "name": "python",
   "nbconvert_exporter": "python",
   "pygments_lexer": "ipython3",
   "version": "3.10.6"
  }
 },
 "nbformat": 4,
 "nbformat_minor": 5
}
